{
  "nbformat": 4,
  "nbformat_minor": 0,
  "metadata": {
    "colab": {
      "provenance": [],
      "toc_visible": true,
      "authorship_tag": "ABX9TyPpf1l+Sl9h6HDGBt3yzZsy"
    },
    "kernelspec": {
      "name": "python3",
      "display_name": "Python 3"
    },
    "language_info": {
      "name": "python"
    }
  },
  "cells": [
    {
      "cell_type": "markdown",
      "source": [
        "# Mount Drive"
      ],
      "metadata": {
        "id": "a5PXG086uAGE"
      }
    },
    {
      "cell_type": "code",
      "source": [
        "from google.colab import drive\n",
        "drive.mount('/content/drive')"
      ],
      "metadata": {
        "colab": {
          "base_uri": "https://localhost:8080/"
        },
        "id": "oNJUXiqdt_Do",
        "outputId": "7f36eda6-a026-43b9-9d59-79237549d83b"
      },
      "execution_count": null,
      "outputs": [
        {
          "output_type": "stream",
          "name": "stdout",
          "text": [
            "Mounted at /content/drive\n"
          ]
        }
      ]
    },
    {
      "cell_type": "code",
      "source": [
        "BASE_DIR = '/content/drive/MyDrive/npr/'\n",
        "LPRNET_DIR = BASE_DIR + 'LPRNET/'"
      ],
      "metadata": {
        "id": "bk4ybTIHuCGq"
      },
      "execution_count": null,
      "outputs": []
    },
    {
      "cell_type": "markdown",
      "source": [
        "# Imports"
      ],
      "metadata": {
        "id": "kEnHJobLt8Ke"
      }
    },
    {
      "cell_type": "code",
      "execution_count": null,
      "metadata": {
        "id": "eN4OnlF3tPB6"
      },
      "outputs": [],
      "source": [
        "import itertools\n",
        "import math\n",
        "import os\n",
        "import random\n",
        "import sys\n",
        "\n",
        "import cv2\n",
        "import numpy as np\n",
        "\n",
        "from PIL import Image\n",
        "from PIL import ImageDraw\n",
        "from PIL import ImageFont"
      ]
    },
    {
      "cell_type": "code",
      "source": [
        "from google.colab.patches import cv2_imshow"
      ],
      "metadata": {
        "id": "U6dc0Yo2AX1C"
      },
      "execution_count": null,
      "outputs": []
    },
    {
      "cell_type": "markdown",
      "source": [
        "# Variables"
      ],
      "metadata": {
        "id": "fjMU9DB8uj4V"
      }
    },
    {
      "cell_type": "code",
      "source": [
        "#COLORS OF PLATES\n",
        "COLOR_PROBABILITIES = [0.65, 0.25, 0.10]\n",
        "COLOR_NAMES = [\"blanco\",\"naranja\",\"amarillo\"]\n",
        "PLATES_COLORS = [(255,255,255), (12,88,241), (36,167,241)]\n",
        "COLOR_ID = 0"
      ],
      "metadata": {
        "id": "oCw_CXBB9tHg"
      },
      "execution_count": null,
      "outputs": []
    },
    {
      "cell_type": "code",
      "source": [
        "FONT_DIR = LPRNET_DIR + \"fonts\"\n",
        "FONT_HEIGHT = 32"
      ],
      "metadata": {
        "id": "WzBCFLvGulxk"
      },
      "execution_count": null,
      "outputs": []
    },
    {
      "cell_type": "code",
      "source": [
        "PREFIX = [\"ගුවන්\",\"යුහ\",\"නාහ\"]"
      ],
      "metadata": {
        "id": "OvxTLcVU0sEc"
      },
      "execution_count": null,
      "outputs": []
    },
    {
      "cell_type": "code",
      "source": [
        "PLATES_COLORS = [(255,255,255)]"
      ],
      "metadata": {
        "id": "zslOeUrL4waY"
      },
      "execution_count": null,
      "outputs": []
    },
    {
      "cell_type": "code",
      "source": [
        "DIGITS = \"0123456789\"\n",
        "LETTERS = \"ABCDEFGHIJKLMNOPQRSTUVWXYZ\"\n",
        "SINHALA = \"ගුවන්යුහනාහ\"\n",
        "CHARS = SINHALA + DIGITS\n",
        "CHARS = CHARS + \" \""
      ],
      "metadata": {
        "id": "sFwyJPVJzk5f"
      },
      "execution_count": null,
      "outputs": []
    },
    {
      "cell_type": "code",
      "source": [
        "OUTPUT_SHAPE = (24, 94)"
      ],
      "metadata": {
        "id": "6uVG3KHB6roP"
      },
      "execution_count": null,
      "outputs": []
    },
    {
      "cell_type": "code",
      "source": [
        "im_codes_acumulate = []"
      ],
      "metadata": {
        "id": "W_m9IjAh0I5q"
      },
      "execution_count": null,
      "outputs": []
    },
    {
      "cell_type": "code",
      "source": [
        "PLATE_MARGINS = [\n",
        "    {\n",
        "        \"h_padding\" : 0.2,\n",
        "        \"top_padding\" : 0.2,\n",
        "        \"bottom_padding\" : 0.62,\n",
        "        \"spacing\" : 0.005,\n",
        "        \"extra_spacing\": [0.2, 0.4],\n",
        "        \"min_scale\": 0.38,\n",
        "        \"max_scale\": 0.45\n",
        "        },\n",
        "    {\n",
        "        \"h_padding\" : 0.1,\n",
        "        \"top_padding\" : 0.005,\n",
        "        \"bottom_padding\" : 0.42,\n",
        "        \"spacing\" : 0.005,\n",
        "        \"extra_spacing\": [0.2, 0.08],\n",
        "        \"min_scale\": 0.5,\n",
        "        \"max_scale\": 0.53\n",
        "        }]"
      ],
      "metadata": {
        "id": "23NXHD2-2Eyn"
      },
      "execution_count": null,
      "outputs": []
    },
    {
      "cell_type": "markdown",
      "source": [
        "# Helpers"
      ],
      "metadata": {
        "id": "8aur43WLx-a-"
      }
    },
    {
      "cell_type": "code",
      "source": [
        "#Function that returns a char with a its respective img RGB using a font\n",
        "def make_char_ims(font_path, output_height, color):\n",
        "    font_size = output_height * 4\n",
        "\n",
        "    font = ImageFont.truetype(font_path, font_size)\n",
        "\n",
        "    height = max(font.getsize(c)[1] for c in CHARS)\n",
        "\n",
        "    for c in CHARS:\n",
        "        width = font.getsize(c)[0]\n",
        "        im = Image.new(\"RGB\", (width, height), color)\n",
        "\n",
        "        draw = ImageDraw.Draw(im)\n",
        "        draw.text((0, 0), c, (0, 0, 0), font=font)\n",
        "        scale = float(output_height) / height\n",
        "        im = im.resize((int(width * scale), output_height), Image.ANTIALIAS)\n",
        "        yield c, np.array(im).astype(np.uint8)"
      ],
      "metadata": {
        "id": "0MNZKD311PEP"
      },
      "execution_count": null,
      "outputs": []
    },
    {
      "cell_type": "code",
      "source": [
        "#Function that generates de code of plate using a prefined format\n",
        "def generate_code():\n",
        "    code = \"\"\n",
        "    code = \"{}{}{}{}{}\".format(\n",
        "                random.choice(PREFIX),\n",
        "                random.choice(DIGITS),\n",
        "                random.choice(DIGITS),\n",
        "                random.choice(DIGITS),\n",
        "                random.choice(DIGITS))\n",
        "\n",
        "    if not (code in im_codes_acumulate):\n",
        "        im_codes_acumulate.append(code)\n",
        "        return code\n",
        "    else:\n",
        "        return generate_code()"
      ],
      "metadata": {
        "id": "c74IYhXfz3Tq"
      },
      "execution_count": null,
      "outputs": []
    },
    {
      "cell_type": "code",
      "source": [
        "def rounded_rect(shape, radius):\n",
        "    out = np.ones(shape,dtype=np.uint8)\n",
        "    out[:radius, :radius] = 0.0\n",
        "    out[-radius:, :radius] = 0.0\n",
        "    out[:radius, -radius:] = 0.0\n",
        "    out[-radius:, -radius:] = 0.0\n",
        "\n",
        "    cv2.circle(out, (radius, radius), radius, 1.0, -1)\n",
        "    cv2.circle(out, (radius, shape[0] - radius), radius, 1.0, -1)\n",
        "    cv2.circle(out, (shape[1] - radius, radius), radius, 1.0, -1)\n",
        "    cv2.circle(out, (shape[1] - radius, shape[0] - radius), radius, 1.0, -1)\n",
        "\n",
        "    # Change the out in 3 channels\n",
        "    out_3c = np.zeros( ( np.array(out).shape[0], np.array(out).shape[1], 3 ),dtype=np.uint8)\n",
        "    out_3c[:,:,0] = out * 255\n",
        "    out_3c[:,:,1] = out * 255\n",
        "    out_3c[:,:,2] = out * 255\n",
        "\n",
        "    return out_3c\n",
        "\n",
        "def overlap_mask(img1,img2, mask_overlay=None):\n",
        "\n",
        "    # I want to put logo on top-left corner, So I create a ROI\n",
        "    rows,cols,channels = img2.shape\n",
        "    roi = img1[0:rows, 0:cols ]\n",
        "\n",
        "    # Now create a mask of logo and create its inverse mask also\n",
        "    img2gray = cv2.cvtColor(img2,cv2.COLOR_BGR2GRAY)\n",
        "    mask = None\n",
        "    if (mask_overlay is None):\n",
        "        _ , mask = cv2.threshold(img2gray, 10, 255, cv2.THRESH_BINARY)\n",
        "    else:\n",
        "        mask_overlay = cv2.cvtColor(mask_overlay,cv2.COLOR_BGR2GRAY)\n",
        "        _ , mask = cv2.threshold(mask_overlay, 10, 255, cv2.THRESH_BINARY)\n",
        "    mask_inv = cv2.bitwise_not(mask)\n",
        "\n",
        "    # Now black-out the area of logo in ROI\n",
        "    img1_bg = cv2.bitwise_and(roi,roi,mask = mask_inv)\n",
        "\n",
        "    # Take only region of logo from logo image.\n",
        "    img2_fg = cv2.bitwise_and(img2,img2,mask = mask)\n",
        "\n",
        "    # Put logo in ROI and modify the main image\n",
        "    dst = cv2.add(img1_bg,img2_fg)\n",
        "    img1[0:rows, 0:cols ] = dst\n",
        "\n",
        "    return img1"
      ],
      "metadata": {
        "id": "q8p3aOT47Kjk"
      },
      "execution_count": null,
      "outputs": []
    },
    {
      "cell_type": "code",
      "source": [
        "def generate_plate(font_height, font_char_ims):\n",
        "\n",
        "    #Select the char of an specific color and the color\n",
        "    random_idx = np.random.choice(len(PLATES_COLORS),p=COLOR_PROBABILITIES)\n",
        "    char_ims = font_char_ims[random_idx]\n",
        "    plate_color = PLATES_COLORS[random_idx]\n",
        "    print(\"COLOR: {}\".format(COLOR_NAMES[random_idx]))\n",
        "\n",
        "    #Select the info parameter according to the type of plate\n",
        "    plate_info = PLATE_MARGINS[0]\n",
        "\n",
        "    #Define some spacing in the vertical and horizontal way\n",
        "    h_padding = plate_info[\"h_padding\"] * font_height\n",
        "    top_padding = plate_info[\"top_padding\"] * font_height\n",
        "    bottom_padding = plate_info[\"bottom_padding\"] * font_height\n",
        "\n",
        "    #Define the spacing between characters\n",
        "    spacing = font_height * plate_info[\"spacing\"]\n",
        "\n",
        "    #Definig the radious of the rounded rect of the plate\n",
        "    radius = 1 + int(font_height * 0.1)\n",
        "\n",
        "    #Generate a random code to a plate\n",
        "    code = generate_code()\n",
        "\n",
        "    #Define the text_widh considering the space of each letter and\n",
        "    #some spacing between them\n",
        "    text_width = sum(char_ims[c].shape[1] for c in code)\n",
        "    text_width += (len(code) - 1) * spacing\n",
        "\n",
        "    #Here we use extra spacing to follow the format 1 and 2 of chilean license plates\n",
        "    #The extra spacing is added each two characters\n",
        "    out_shape = (int(font_height + top_padding + bottom_padding) ,\n",
        "                 int(text_width + (h_padding * 2) + plate_info[\"extra_spacing\"][0] * font_height + plate_info[\"extra_spacing\"][1] * font_height))\n",
        "\n",
        "    #Generate the matrix where we will place the character of the plate\n",
        "    # text_mask = np.zeros(out_shape)\n",
        "\n",
        "    text_mask = np.zeros((out_shape[0],out_shape[1],3),dtype=np.uint8)\n",
        "    text_mask[:]=plate_color\n",
        "\n",
        "    #Iterate for the characters of code adding some padding, spacing a extra spacing\n",
        "    #between character.\n",
        "    x = h_padding\n",
        "    y = top_padding\n",
        "\n",
        "    i = 0\n",
        "    for idx, c in enumerate(code,1):\n",
        "        char_im = char_ims[c]\n",
        "        ix, iy = int(x), int(y)\n",
        "        text_mask[iy:iy + char_im.shape[0], ix:ix + char_im.shape[1]] = char_im\n",
        "        x += char_im.shape[1] + spacing\n",
        "        #if (idx % 2 == 0 and idx < len(code)):\n",
        "        #    x += plate_info[\"extra_spacing\"][i] * font_height\n",
        "        #    i += 1\n",
        "\n",
        "    # Png image mask\n",
        "    png_mask = cv2.imread(LPRNET_DIR + 'mask/mask_type1.png')\n",
        "\n",
        "    resize_mask = cv2.resize(png_mask, (text_mask.shape[1],text_mask.shape[0]))\n",
        "\n",
        "    plate_with_mask = overlap_mask(text_mask,resize_mask)\n",
        "\n",
        "    # cv2.imshow(\"out\",plate_with_mask)\n",
        "    # cv2.waitKey(0)\n",
        "\n",
        "    return plate_with_mask, rounded_rect(out_shape, radius), code.replace(\" \", \"\")"
      ],
      "metadata": {
        "id": "1uJmGeW01l1i"
      },
      "execution_count": null,
      "outputs": []
    },
    {
      "cell_type": "code",
      "source": [
        "def load_fonts(folder_path,font):\n",
        "    '''\n",
        "    Creates a dictionary of the given font\n",
        "\n",
        "    :return:\n",
        "        Dictionary: key - character, value - the matrix of character\n",
        "    '''\n",
        "    font_char_ims = []\n",
        "\n",
        "    for color in PLATES_COLORS:\n",
        "        font_char_ims.append(dict(make_char_ims(os.path.join(folder_path,\n",
        "                                                font),\n",
        "                                                FONT_HEIGHT,color)))\n",
        "    return font_char_ims"
      ],
      "metadata": {
        "id": "qNDJ8eNZydPD"
      },
      "execution_count": null,
      "outputs": []
    },
    {
      "cell_type": "code",
      "source": [
        "def generate_im(font_char_ims):\n",
        "    '''\n",
        "    Generate images with a background and a plate given\n",
        "\n",
        "    font_char_ims: the dict of the char with a especific font\n",
        "    num_bg_image: the total number of images generated\n",
        "    '''\n",
        "    #Generate a background given the total number of background\n",
        "\n",
        "\n",
        "    #Generate a plate and plate_mask given a height and the dictionary of fonts\n",
        "    plate, plate_mask, code = generate_plate(FONT_HEIGHT, font_char_ims)\n",
        "\n",
        "    cv2_imshow(plate)\n",
        "    cv2.waitKey(0)\n",
        "\n",
        "\n",
        "\n",
        "    #Resize the image with the final outputs\n",
        "    out = cv2.resize(plate, (OUTPUT_SHAPE[1], OUTPUT_SHAPE[0]))\n",
        "\n",
        "    return out, code\n"
      ],
      "metadata": {
        "id": "HAj_K5sN6Aj2"
      },
      "execution_count": null,
      "outputs": []
    },
    {
      "cell_type": "code",
      "source": [
        "def generate_ims():\n",
        "    \"\"\"\n",
        "    Generate number plate images.\n",
        "\n",
        "    :return:\n",
        "        Iterable of number plate images.\n",
        "\n",
        "    \"\"\"\n",
        "\n",
        "    #get the dictionary of fonts where key is the character and value are the matrix of that character (or image)\n",
        "    font = \"iskoola.ttf\"\n",
        "    font_char_ims = load_fonts(FONT_DIR,font)\n",
        "\n",
        "    #takes the total number of background in the folder PARAMS.dataset\n",
        "    while True:\n",
        "      yield generate_im(font_char_ims)\n",
        "        #generate an image given the dictionaty of fonts and the total number of background\n",
        "\n",
        "\n",
        ""
      ],
      "metadata": {
        "id": "eYpTXCALyAQk"
      },
      "execution_count": null,
      "outputs": []
    },
    {
      "cell_type": "markdown",
      "source": [
        "# Gen"
      ],
      "metadata": {
        "id": "gWFSJYbL8yHq"
      }
    },
    {
      "cell_type": "code",
      "source": [
        "def gen():\n",
        "\n",
        "    #create a iterator with coroutine that five the total number of images\n",
        "    im_gen = itertools.islice(generate_ims(), 10)\n",
        "\n",
        "    #iterate through the iterator display the name and store in the folder test\n",
        "    for img_idx, (im, c) in enumerate(im_gen,1):\n",
        "        fname = LPRNET_DIR + \"gen_plates/{:012d}-gen{}_{}.jpg\".format(img_idx,1,c)\n",
        "        print(fname)\n",
        "        cv2.imwrite(fname, im)"
      ],
      "metadata": {
        "id": "icrFv3lU8zNl"
      },
      "execution_count": null,
      "outputs": []
    },
    {
      "cell_type": "markdown",
      "source": [
        "# Test"
      ],
      "metadata": {
        "id": "SeFC17x55hWJ"
      }
    },
    {
      "cell_type": "code",
      "source": [
        "gen()"
      ],
      "metadata": {
        "colab": {
          "base_uri": "https://localhost:8080/",
          "height": 944
        },
        "id": "eNCT5DUD9NPO",
        "outputId": "7778b688-49d0-4d2a-97d3-060e19981548"
      },
      "execution_count": null,
      "outputs": [
        {
          "output_type": "stream",
          "name": "stdout",
          "text": [
            "COLOR: naranja\n"
          ]
        },
        {
          "output_type": "display_data",
          "data": {
            "text/plain": [
              "<PIL.Image.Image image mode=RGB size=137x58 at 0x7FF6232C79D0>"
            ],
            "image/png": "[encoded data removed]"
          },
          "metadata": {}
        },
        {
          "output_type": "stream",
          "name": "stdout",
          "text": [
            "/content/drive/MyDrive/npr/LPRNET/gen_plates/000000000001-gen1_නාහ3921.jpg\n",
            "COLOR: blanco\n"
          ]
        },
        {
          "output_type": "display_data",
          "data": {
            "text/plain": [
              "<PIL.Image.Image image mode=RGB size=167x58 at 0x7FF623319990>"
            ],
            "image/png": "[encoded data removed]"
          },
          "metadata": {}
        },
        {
          "output_type": "stream",
          "name": "stdout",
          "text": [
            "/content/drive/MyDrive/npr/LPRNET/gen_plates/000000000002-gen1_ගුවන්9115.jpg\n",
            "COLOR: blanco\n"
          ]
        },
        {
          "output_type": "display_data",
          "data": {
            "text/plain": [
              "<PIL.Image.Image image mode=RGB size=137x58 at 0x7FF6232C7ED0>"
            ],
            "image/png": "[encoded data removed]"
          },
          "metadata": {}
        },
        {
          "output_type": "stream",
          "name": "stdout",
          "text": [
            "/content/drive/MyDrive/npr/LPRNET/gen_plates/000000000003-gen1_නාහ7918.jpg\n",
            "COLOR: blanco\n"
          ]
        },
        {
          "output_type": "display_data",
          "data": {
            "text/plain": [
              "<PIL.Image.Image image mode=RGB size=140x58 at 0x7FF6232C7ED0>"
            ],
            "image/png": "[encoded data removed]"
          },
          "metadata": {}
        },
        {
          "output_type": "stream",
          "name": "stdout",
          "text": [
            "/content/drive/MyDrive/npr/LPRNET/gen_plates/000000000004-gen1_යුහ2140.jpg\n",
            "COLOR: blanco\n"
          ]
        },
        {
          "output_type": "display_data",
          "data": {
            "text/plain": [
              "<PIL.Image.Image image mode=RGB size=140x58 at 0x7FF62333FDD0>"
            ],
            "image/png": "[encoded data removed]"
          },
          "metadata": {}
        },
        {
          "output_type": "stream",
          "name": "stdout",
          "text": [
            "/content/drive/MyDrive/npr/LPRNET/gen_plates/000000000005-gen1_යුහ1483.jpg\n",
            "COLOR: blanco\n"
          ]
        },
        {
          "output_type": "display_data",
          "data": {
            "text/plain": [
              "<PIL.Image.Image image mode=RGB size=140x58 at 0x7FF6232B8B90>"
            ],
            "image/png": "[encoded data removed]"
          },
          "metadata": {}
        },
        {
          "output_type": "stream",
          "name": "stdout",
          "text": [
            "/content/drive/MyDrive/npr/LPRNET/gen_plates/000000000006-gen1_යුහ9947.jpg\n",
            "COLOR: naranja\n"
          ]
        },
        {
          "output_type": "display_data",
          "data": {
            "text/plain": [
              "<PIL.Image.Image image mode=RGB size=137x58 at 0x7FF62323F5D0>"
            ],
            "image/png": "[encoded data removed]"
          },
          "metadata": {}
        },
        {
          "output_type": "stream",
          "name": "stdout",
          "text": [
            "/content/drive/MyDrive/npr/LPRNET/gen_plates/000000000007-gen1_නාහ1764.jpg\n",
            "COLOR: naranja\n"
          ]
        },
        {
          "output_type": "display_data",
          "data": {
            "text/plain": [
              "<PIL.Image.Image image mode=RGB size=137x58 at 0x7FF62323F5D0>"
            ],
            "image/png": "[encoded data removed]"
          },
          "metadata": {}
        },
        {
          "output_type": "stream",
          "name": "stdout",
          "text": [
            "/content/drive/MyDrive/npr/LPRNET/gen_plates/000000000008-gen1_නාහ7597.jpg\n",
            "COLOR: naranja\n"
          ]
        },
        {
          "output_type": "display_data",
          "data": {
            "text/plain": [
              "<PIL.Image.Image image mode=RGB size=167x58 at 0x7FF62323F290>"
            ],
            "image/png": "[encoded data removed]"
          },
          "metadata": {}
        },
        {
          "output_type": "stream",
          "name": "stdout",
          "text": [
            "/content/drive/MyDrive/npr/LPRNET/gen_plates/000000000009-gen1_ගුවන්3230.jpg\n",
            "COLOR: blanco\n"
          ]
        },
        {
          "output_type": "display_data",
          "data": {
            "text/plain": [
              "<PIL.Image.Image image mode=RGB size=140x58 at 0x7FF62323F490>"
            ],
            "image/png": "[encoded data removed]"
          },
          "metadata": {}
        },
        {
          "output_type": "stream",
          "name": "stdout",
          "text": [
            "/content/drive/MyDrive/npr/LPRNET/gen_plates/000000000010-gen1_යුහ8212.jpg\n"
          ]
        }
      ]
    }
  ]
}